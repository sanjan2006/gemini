{
  "nbformat": 4,
  "nbformat_minor": 0,
  "metadata": {
    "colab": {
      "provenance": [],
      "authorship_tag": "ABX9TyOX3ZbUNVhJgWnTzEqzqFWM",
      "include_colab_link": true
    },
    "kernelspec": {
      "name": "python3",
      "display_name": "Python 3"
    },
    "language_info": {
      "name": "python"
    }
  },
  "cells": [
    {
      "cell_type": "markdown",
      "metadata": {
        "id": "view-in-github",
        "colab_type": "text"
      },
      "source": [
        "<a href=\"https://colab.research.google.com/github/sanjan2006/gemini/blob/main/genai_gemini_ipynb_2.ipynb\" target=\"_parent\"><img src=\"https://colab.research.google.com/assets/colab-badge.svg\" alt=\"Open In Colab\"/></a>"
      ]
    },
    {
      "cell_type": "code",
      "execution_count": 2,
      "metadata": {
        "id": "fsRejZrSQRst"
      },
      "outputs": [],
      "source": [
        "from langchain.prompts import PromptTemplate"
      ]
    },
    {
      "cell_type": "code",
      "source": [
        "%pip install --upgrade --quiet langchain-google-genai"
      ],
      "metadata": {
        "colab": {
          "base_uri": "https://localhost:8080/"
        },
        "id": "XinqyWJfQdLx",
        "outputId": "6b4abe24-e92f-466e-aa1d-189a49680026"
      },
      "execution_count": 3,
      "outputs": [
        {
          "output_type": "stream",
          "name": "stdout",
          "text": [
            "\u001b[?25l   \u001b[90m━━━━━━━━━━━━━━━━━━━━━━━━━━━━━━━━━━━━━━━━\u001b[0m \u001b[32m0.0/41.3 kB\u001b[0m \u001b[31m?\u001b[0m eta \u001b[36m-:--:--\u001b[0m\r\u001b[2K   \u001b[90m━━━━━━━━━━━━━━━━━━━━━━━━━━━━━━━━━━━━━━━━\u001b[0m \u001b[32m41.3/41.3 kB\u001b[0m \u001b[31m1.5 MB/s\u001b[0m eta \u001b[36m0:00:00\u001b[0m\n",
            "\u001b[?25h"
          ]
        }
      ]
    },
    {
      "cell_type": "code",
      "source": [
        "from langchain_google_genai import GoogleGenerativeAI"
      ],
      "metadata": {
        "id": "F2KygO6rRAhV"
      },
      "execution_count": 4,
      "outputs": []
    },
    {
      "cell_type": "code",
      "source": [
        "from google.colab import userdata\n",
        "key=userdata.get('google_api_key')"
      ],
      "metadata": {
        "id": "5Bg_LdHqRPJ3"
      },
      "execution_count": 7,
      "outputs": []
    },
    {
      "cell_type": "code",
      "source": [
        "model=GoogleGenerativeAI(model=\"gemini-pro\",google_api_key=key)"
      ],
      "metadata": {
        "id": "jEWZudv5RrvI"
      },
      "execution_count": 8,
      "outputs": []
    },
    {
      "cell_type": "code",
      "source": [
        "demo_template=\"\"\"you are expert in (programming).(query)\"\"\""
      ],
      "metadata": {
        "id": "qdwYA6_sTFQq"
      },
      "execution_count": 19,
      "outputs": []
    },
    {
      "cell_type": "code",
      "source": [
        "prompt=PromptTemplate(input_variables=[\"programming\",\"query\"],template=demo_template)"
      ],
      "metadata": {
        "id": "fQCxTltoTZdJ"
      },
      "execution_count": 15,
      "outputs": []
    },
    {
      "cell_type": "markdown",
      "source": [],
      "metadata": {
        "id": "IeVdqc_VVGtv"
      }
    },
    {
      "cell_type": "code",
      "source": [
        "prompt_text=prompt.format(programming=\"python\",query=\"write a python function to display the list of even  numbers\")"
      ],
      "metadata": {
        "id": "uqnmuYlMTfXB"
      },
      "execution_count": 31,
      "outputs": []
    },
    {
      "cell_type": "code",
      "source": [
        "res=model.invoke(\"prompt_text\")"
      ],
      "metadata": {
        "id": "ZSVxyMMjSRPq"
      },
      "execution_count": 32,
      "outputs": []
    },
    {
      "cell_type": "code",
      "source": [
        "print(res)"
      ],
      "metadata": {
        "colab": {
          "base_uri": "https://localhost:8080/"
        },
        "id": "vKUTfAQ-SjDi",
        "outputId": "558e15fa-2d03-4a81-fb02-1198ea3ba9a0"
      },
      "execution_count": 33,
      "outputs": [
        {
          "output_type": "stream",
          "name": "stdout",
          "text": [
            "```\n",
            "import numpy as np\n",
            "import os\n",
            "import time\n",
            "import tensorflow as tf\n",
            "from tensorflow import keras\n",
            "from tensorflow.keras import layers, Model\n",
            "from tensorflow.keras.models import load_model\n",
            "\n",
            "# Get the data\n",
            "(x_train, y_train), (x_test, y_test) = keras.datasets.mnist.load_data()\n",
            "\n",
            "# Reshape the data\n",
            "x_train = np.expand_dims(x_train, -1)\n",
            "x_test = np.expand_dims(x_test, -1)\n",
            "\n",
            "# Create the model\n",
            "model = keras.Sequential([\n",
            "  layers.Conv2D(32, (3, 3), activation='relu', input_shape=(28, 28, 1)),\n",
            "  layers.MaxPooling2D((2, 2)),\n",
            "  layers.Conv2D(64, (3, 3), activation='relu'),\n",
            "  layers.MaxPooling2D((2, 2)),\n",
            "  layers.Flatten(),\n",
            "  layers.Dense(128, activation='relu'),\n",
            "  layers.Dense(10, activation='softmax')\n",
            "])\n",
            "\n",
            "# Compile the model\n",
            "model.compile(optimizer='adam', \n",
            "              loss='sparse_categorical_crossentropy', \n",
            "              metrics=['accuracy'])\n",
            "\n",
            "# Train the model\n",
            "model.fit(x_train, y_train, epochs=10)\n",
            "\n",
            "# Evaluate the model\n",
            "test_loss, test_acc = model.evaluate(x_test, y_test, verbose=2)\n",
            "print('\\nTest accuracy:', test_acc)\n",
            "\n",
            "# Save the model\n",
            "model.save('my_model.h5')\n",
            "\n",
            "# Load the model\n",
            "new_model = load_model('my_model.h5')\n",
            "\n",
            "# Evaluate the new model\n",
            "new_test_loss, new_test_acc = new_model.evaluate(x_test, y_test, verbose=2)\n",
            "print('\\nNew test accuracy:', new_test_acc)\n",
            "\n",
            "```\n"
          ]
        }
      ]
    },
    {
      "cell_type": "code",
      "source": [],
      "metadata": {
        "id": "hDa-NWoFSzeK"
      },
      "execution_count": null,
      "outputs": []
    }
  ]
}